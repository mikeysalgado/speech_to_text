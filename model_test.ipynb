{
 "cells": [
  {
   "cell_type": "markdown",
   "id": "0f267a8e-642b-42a0-832d-cfa25d81f767",
   "metadata": {},
   "source": [
    "# Model Test Notebook"
   ]
  },
  {
   "cell_type": "code",
   "execution_count": 1,
   "id": "407d43d6-1e8b-45c2-9041-80e07b397c43",
   "metadata": {},
   "outputs": [],
   "source": [
    "import os\n",
    "import matplotlib.pyplot as plt\n",
    "import numpy as np\n",
    "import pandas as pd\n",
    "from sklearn.model_selection import train_test_split\n",
    "from pathlib import Path\n",
    "from num2words import num2words\n",
    "import re"
   ]
  },
  {
   "cell_type": "markdown",
   "id": "b8177377-1b53-4251-9185-2c14488dc06e",
   "metadata": {},
   "source": [
    "## Loading the Data"
   ]
  },
  {
   "cell_type": "code",
   "execution_count": 8,
   "id": "7ad11415-3bb5-405d-95ef-1a21e98d1117",
   "metadata": {},
   "outputs": [
    {
     "name": "stdout",
     "output_type": "stream",
     "text": [
      "root_dirname: C:\\Users\\dangn\\Documents\\Senior Year\\CS 4980 NLP\\Ted-Talk_Scraper\n",
      "ted_talk_scraper_dir: C:\\Users\\dangn\\Documents\\Senior Year\\CS 4980 NLP\\Ted-Talk_Scraper\\Ted-Talk_Scraper\n",
      "audio_folders: C:\\Users\\dangn\\Documents\\Senior Year\\CS 4980 NLP\\Ted-Talk_Scraper\\output_files\n",
      "train_audio_path: C:\\Users\\dangn\\Documents\\Senior Year\\CS 4980 NLP\\Ted-Talk_Scraper\\output_files\\2006-sir-ken-robinson-016-1200k\n",
      "train_label_path: C:\\Users\\dangn\\Documents\\Senior Year\\CS 4980 NLP\\Ted-Talk_Scraper\\transcript\\2006-sir-ken-robinson-016-1200k.csv\n"
     ]
    }
   ],
   "source": [
    "root_dirname = os.path.abspath('')\n",
    "#ted_talk_scraper_dir = os.path.join(root_dirname, 'Ted-Talk_Scraper')\n",
    "audio_folders = os.path.join(root_dirname, 'output_files')\n",
    "\n",
    "train_audio_path = os.path.join(audio_folders, '2006-sir-ken-robinson-016-1200k')\n",
    "train_label_path = os.path.join(root_dirname, 'transcript', '2006-sir-ken-robinson-016-1200k.csv')\n",
    "\n",
    "print(\"root_dirname:\", root_dirname)\n",
    "print(\"ted_talk_scraper_dir:\", ted_talk_scraper_dir)\n",
    "print(\"audio_folders:\", audio_folders)\n",
    "print(\"train_audio_path:\", train_audio_path)\n",
    "print(\"train_label_path:\", train_label_path)"
   ]
  },
  {
   "cell_type": "markdown",
   "id": "4f2044fe-42e1-4c94-91e9-089c4f05d14f",
   "metadata": {},
   "source": [
    "## Cleaning the Data\n",
    "\n",
    "So far the data is cleaned by the following:\n",
    "- Converted numbers to words using num2word module (e.g. 30s -> thirtys). Not fully correct but decent\n",
    "- Removed punctuation\n",
    "- lowercased all\n",
    "- removed row entries in train_df where transcript was just audience sound (e.g. (Applause))"
   ]
  },
  {
   "cell_type": "code",
   "execution_count": 7,
   "id": "e17c04ca-8054-4f96-b2d7-f0cf6e5a80ba",
   "metadata": {},
   "outputs": [
    {
     "data": {
      "text/html": [
       "<div>\n",
       "<style scoped>\n",
       "    .dataframe tbody tr th:only-of-type {\n",
       "        vertical-align: middle;\n",
       "    }\n",
       "\n",
       "    .dataframe tbody tr th {\n",
       "        vertical-align: top;\n",
       "    }\n",
       "\n",
       "    .dataframe thead th {\n",
       "        text-align: right;\n",
       "    }\n",
       "</style>\n",
       "<table border=\"1\" class=\"dataframe\">\n",
       "  <thead>\n",
       "    <tr style=\"text-align: right;\">\n",
       "      <th></th>\n",
       "      <th>wav_filename</th>\n",
       "      <th>wav_filesize</th>\n",
       "      <th>transcript</th>\n",
       "    </tr>\n",
       "  </thead>\n",
       "  <tbody>\n",
       "    <tr>\n",
       "      <th>0</th>\n",
       "      <td>output_0.mp3</td>\n",
       "      <td>32852</td>\n",
       "      <td>good morning how are you</td>\n",
       "    </tr>\n",
       "    <tr>\n",
       "      <th>1</th>\n",
       "      <td>output_1.mp3</td>\n",
       "      <td>32852</td>\n",
       "      <td>good</td>\n",
       "    </tr>\n",
       "    <tr>\n",
       "      <th>2</th>\n",
       "      <td>output_10.mp3</td>\n",
       "      <td>48735</td>\n",
       "      <td>its been great hasnt it ive been blown away by...</td>\n",
       "    </tr>\n",
       "    <tr>\n",
       "      <th>4</th>\n",
       "      <td>output_101.mp3</td>\n",
       "      <td>320826</td>\n",
       "      <td>there have been three themes running through t...</td>\n",
       "    </tr>\n",
       "    <tr>\n",
       "      <th>5</th>\n",
       "      <td>output_102.mp3</td>\n",
       "      <td>496787</td>\n",
       "      <td>i have an interest in education actually what ...</td>\n",
       "    </tr>\n",
       "    <tr>\n",
       "      <th>...</th>\n",
       "      <td>...</td>\n",
       "      <td>...</td>\n",
       "      <td>...</td>\n",
       "    </tr>\n",
       "    <tr>\n",
       "      <th>98</th>\n",
       "      <td>output_94.mp3</td>\n",
       "      <td>32852</td>\n",
       "      <td>i said what happened she said she did i cant t...</td>\n",
       "    </tr>\n",
       "    <tr>\n",
       "      <th>100</th>\n",
       "      <td>output_96.mp3</td>\n",
       "      <td>544852</td>\n",
       "      <td>what i think it comes to is this al gore spoke...</td>\n",
       "    </tr>\n",
       "    <tr>\n",
       "      <th>101</th>\n",
       "      <td>output_97.mp3</td>\n",
       "      <td>368892</td>\n",
       "      <td>there was a wonderful quote by jonas salk who ...</td>\n",
       "    </tr>\n",
       "    <tr>\n",
       "      <th>102</th>\n",
       "      <td>output_98.mp3</td>\n",
       "      <td>656865</td>\n",
       "      <td>what ted celebrates is the gift of the human i...</td>\n",
       "    </tr>\n",
       "    <tr>\n",
       "      <th>103</th>\n",
       "      <td>output_99.mp3</td>\n",
       "      <td>128983</td>\n",
       "      <td>thank you very much</td>\n",
       "    </tr>\n",
       "  </tbody>\n",
       "</table>\n",
       "<p>62 rows × 3 columns</p>\n",
       "</div>"
      ],
      "text/plain": [
       "       wav_filename  wav_filesize  \\\n",
       "0      output_0.mp3         32852   \n",
       "1      output_1.mp3         32852   \n",
       "2     output_10.mp3         48735   \n",
       "4    output_101.mp3        320826   \n",
       "5    output_102.mp3        496787   \n",
       "..              ...           ...   \n",
       "98    output_94.mp3         32852   \n",
       "100   output_96.mp3        544852   \n",
       "101   output_97.mp3        368892   \n",
       "102   output_98.mp3        656865   \n",
       "103   output_99.mp3        128983   \n",
       "\n",
       "                                            transcript  \n",
       "0                             good morning how are you  \n",
       "1                                                 good  \n",
       "2    its been great hasnt it ive been blown away by...  \n",
       "4    there have been three themes running through t...  \n",
       "5    i have an interest in education actually what ...  \n",
       "..                                                 ...  \n",
       "98   i said what happened she said she did i cant t...  \n",
       "100  what i think it comes to is this al gore spoke...  \n",
       "101  there was a wonderful quote by jonas salk who ...  \n",
       "102  what ted celebrates is the gift of the human i...  \n",
       "103                                thank you very much  \n",
       "\n",
       "[62 rows x 3 columns]"
      ]
     },
     "metadata": {},
     "output_type": "display_data"
    }
   ],
   "source": [
    "def convert_num_to_words(utterance):\n",
    "    numbers = re.findall(\"\\d+\", utterance)\n",
    "    for num in sorted([int(i) for i in numbers], reverse=True):\n",
    "        utterance  = utterance.replace(str(num), num2words(num))\n",
    "    return utterance\n",
    "\n",
    "transcript_df = pd.read_csv(train_label_path)\n",
    "audience_sound_only_mask = transcript_df['text'].str.contains('^\\s?\\(\\w+\\)\\s?$', regex=True)\n",
    "transcript_df['text'] = transcript_df['text'].apply(convert_num_to_words)\n",
    "transcript_df = transcript_df[~audience_sound_only_mask]['text'].str.lower().str.replace('\\(\\w+\\)', '', regex=True).str.replace(\"[\\\"\\?\\.\\!\\:\\,\\-\\;\\-\\']\", \"\", regex=True)\n",
    "\n",
    "audio_file_name = os.listdir(train_audio_path)\n",
    "audio_file_size = []\n",
    "for audio in audio_file_name:\n",
    "    audio_file_size.append(Path(os.path.join(train_audio_path,  audio)).stat().st_size)\n",
    "    \n",
    "train_df = pd.DataFrame({\"wav_filename\":audio_file_name, \"wav_filesize\":audio_file_size})\n",
    "train_df = pd.merge(train_df, transcript_df.rename('transcript'), left_index=True, right_index=True)\n",
    "display(train_df)\n",
    "train_df.to_csv(\"train.csv\", index=False)"
   ]
  },
  {
   "cell_type": "code",
   "execution_count": null,
   "id": "7093557e-df98-416b-9767-857bb3467aa7",
   "metadata": {},
   "outputs": [],
   "source": []
  }
 ],
 "metadata": {
  "kernelspec": {
   "display_name": "Python 3",
   "language": "python",
   "name": "python3"
  },
  "language_info": {
   "codemirror_mode": {
    "name": "ipython",
    "version": 3
   },
   "file_extension": ".py",
   "mimetype": "text/x-python",
   "name": "python",
   "nbconvert_exporter": "python",
   "pygments_lexer": "ipython3",
   "version": "3.8.8"
  }
 },
 "nbformat": 4,
 "nbformat_minor": 5
}
